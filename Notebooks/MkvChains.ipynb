{
 "cells": [
  {
   "cell_type": "markdown",
   "metadata": {},
   "source": [
    "## Attempting human-like speach: Markov chains\n",
    "In orderto make the activitiy sentences in our memory more human-like, we can attempt to build a simple chatbot from the tex as well. A simple, and maybe naive, approach is to build a Markov chain.\n",
    "\n",
    "First load some modules"
   ]
  },
  {
   "cell_type": "code",
   "execution_count": 14,
   "metadata": {
    "collapsed": true
   },
   "outputs": [],
   "source": [
    "import pensieve as pens\n",
    "import textacy\n",
    "from collections import defaultdict\n",
    "from random import random"
   ]
  },
  {
   "cell_type": "markdown",
   "metadata": {},
   "source": [
    "Define our markiv hcain functions. First to create the dics. First attempt only takes triplets of words _a b c_ and adds _{'a b':c}_ to the dictionary, takes a step forward. The inverse dicitnoary is also saved for some tests, using it to seed the chain.\n",
    "\n",
    "The dictionaries are sampled with equal probability, could look into using frequency for relative weights."
   ]
  },
  {
   "cell_type": "code",
   "execution_count": 25,
   "metadata": {
    "collapsed": false
   },
   "outputs": [],
   "source": [
    "def make_markov_chain(docs):\n",
    "    my_dict = defaultdict(list)\n",
    "    inverse_dict = defaultdict(list)\n",
    "    for doc in docs:\n",
    "        print(\"Reading \",doc)\n",
    "        d = pens.Doc(doc)\n",
    "        for p in d.paragraphs:\n",
    "            for sent in p.doc.sents:\n",
    "                #print(sent.text)\n",
    "                bow = textacy.extract.words(sent)\n",
    "                for i_word, word in enumerate(bow):\n",
    "                    if i_word < 3:\n",
    "                        continue\n",
    "                    key = sent[i_word-2].text+' '+sent[i_word-1].text\n",
    "                    value = sent[i_word].text\n",
    "                    my_dict[key].append(value)\n",
    "                    inverse_dict[value].append(key)\n",
    "    return my_dict, inverse_dict\n",
    "\n",
    "def sample_from_chain(mv_dict, key):\n",
    "    options = len(mv_dict[key])\n",
    "    x = 999\n",
    "    while x > options-1:\n",
    "        x = int(10*(random()/options)-1)\n",
    "    #rint(x)\n",
    "    #print(x,key, options)\n",
    "    return(mv_dict[key][x])\n",
    "\n",
    "def make_chain(mkv_chain, key):\n",
    "    counter = 0\n",
    "    chain = key\n",
    "    while key in mkv_chain:\n",
    "        #if counter > 5:\n",
    "        #    return chain\n",
    "        chain+=' '+sample_from_chain(mkv_chain,key)\n",
    "        key = chain.split()[-2]+' '+chain.split()[-1]\n",
    "        counter +=1\n",
    "    return chain\n",
    "     "
   ]
  },
  {
   "cell_type": "code",
   "execution_count": 21,
   "metadata": {
    "collapsed": true
   },
   "outputs": [],
   "source": [
    "all_books = ['../../clusterpot/book1.txt',\n",
    "            '../../clusterpot/book2.txt',\n",
    "            '../../clusterpot/book3.txt',\n",
    "            '../../clusterpot/book4.txt',\n",
    "            '../../clusterpot/book5.txt',\n",
    "            '../../clusterpot/book6.txt',\n",
    "            '../../clusterpot/book7.txt']\n"
   ]
  },
  {
   "cell_type": "markdown",
   "metadata": {
    "collapsed": true
   },
   "source": [
    "Load the books and buildthe dictionaries, and run some simple test for proof of principle.\n"
   ]
  },
  {
   "cell_type": "code",
   "execution_count": 26,
   "metadata": {
    "collapsed": false
   },
   "outputs": [
    {
     "name": "stdout",
     "output_type": "stream",
     "text": [
      "Reading  ../../clusterpot/book1.txt\n",
      "Reading  ../../clusterpot/book2.txt\n",
      "Reading  ../../clusterpot/book3.txt\n",
      "Reading  ../../clusterpot/book4.txt\n",
      "Reading  ../../clusterpot/book5.txt\n",
      "Reading  ../../clusterpot/book6.txt\n",
      "Reading  ../../clusterpot/book7.txt\n"
     ]
    }
   ],
   "source": [
    "\n",
    "mkv_chain, inv_chain = make_markov_chain(all_books)\n"
   ]
  },
  {
   "cell_type": "code",
   "execution_count": 33,
   "metadata": {
    "collapsed": false
   },
   "outputs": [
    {
     "name": "stdout",
     "output_type": "stream",
     "text": [
      "\n",
      " He said my blood would make Harry happy , after all he ’s done … all the letters , he could persuade ’em …\n",
      "\n",
      " He said nothing , Molly , do n’t know about that , ” he grunted , as Dudley\n",
      "\n",
      " He said the giant ; he ’d be stiff if you ’d expect the real reason Ginny Weasley , eh ? ” repeated Professor McGonagall coldly , as Dudley\n",
      "\n",
      " He said my blood would make Harry look like a large , sticky chocolate cake with Happy Birthday\n",
      "\n",
      " He said nothing , Molly , do n’t know about that , ” he grunted , as Dudley\n",
      "\n",
      " He said nothing , Molly , do n’t know about that , ” he grunted , as Dudley\n",
      "\n",
      " He said the giant ; he ’d be stiff if you ’d expect an unqualified wizard\n",
      "\n",
      " He said nothing , Molly , do n’t know about that , ” he grunted , as Dudley\n",
      "\n",
      " He said nothing , Molly , do n’t know about that , ” he grunted , as Dudley\n",
      "\n",
      " He said my blood would make Harry happy , after all he ’s done … all the letters , he could persuade to\n",
      "\n",
      " He said nothing , Molly , do n’t know about that , ” he grunted , as Dudley\n",
      "\n",
      " He said my blood would make Harry happy , after all he ’s done … all the letters , he could persuade to\n",
      "\n",
      " He said nothing , Molly , do n’t know about that , ” he grunted , swinging the steering wheel and his friends Crabbe and this is the safest place in the usual amount of neck , which lay silent and tidy under\n",
      "\n",
      " He said nothing , Molly , do n’t know about that , ” he grunted , as Dudley\n",
      "\n",
      " He said nothing , Molly , do n’t know about that , ” he grunted , as Dudley\n",
      "\n",
      " He said nothing , Molly , do n’t know about that , ” he grunted , as Dudley\n",
      "\n",
      " He said the giant ; he ’d be stiff if you ’d expect the dummy gave a great sniff and patted her on the dull light given off by the time Dudley\n",
      "\n",
      " He said my blood would make Harry look down at the little bundle ; Hagrid ’s shoulders shook , and one daughter\n",
      "\n",
      " He said my blood would make Harry happy , after all he ’s done … all right , thirty - seven then\n",
      "\n",
      " He said nothing , Molly , do n’t know about that , ” he grunted , as Dudley\n"
     ]
    }
   ],
   "source": [
    "#print(mkv_chain)\n",
    "for i in range(20):\n",
    "    print('\\n',make_chain(mkv_chain,'He said'))\n"
   ]
  },
  {
   "cell_type": "code",
   "execution_count": null,
   "metadata": {
    "collapsed": false
   },
   "outputs": [],
   "source": []
  },
  {
   "cell_type": "code",
   "execution_count": null,
   "metadata": {
    "collapsed": false,
    "scrolled": true
   },
   "outputs": [],
   "source": []
  },
  {
   "cell_type": "code",
   "execution_count": null,
   "metadata": {
    "collapsed": false
   },
   "outputs": [],
   "source": []
  },
  {
   "cell_type": "code",
   "execution_count": null,
   "metadata": {
    "collapsed": false
   },
   "outputs": [],
   "source": [
    "\n"
   ]
  },
  {
   "cell_type": "code",
   "execution_count": null,
   "metadata": {
    "collapsed": false
   },
   "outputs": [],
   "source": []
  },
  {
   "cell_type": "code",
   "execution_count": null,
   "metadata": {
    "collapsed": false
   },
   "outputs": [],
   "source": []
  },
  {
   "cell_type": "code",
   "execution_count": null,
   "metadata": {
    "collapsed": true
   },
   "outputs": [],
   "source": []
  },
  {
   "cell_type": "code",
   "execution_count": null,
   "metadata": {
    "collapsed": true
   },
   "outputs": [],
   "source": []
  }
 ],
 "metadata": {
  "kernelspec": {
   "display_name": "Python 3",
   "language": "python",
   "name": "python3"
  },
  "language_info": {
   "codemirror_mode": {
    "name": "ipython",
    "version": 3
   },
   "file_extension": ".py",
   "mimetype": "text/x-python",
   "name": "python",
   "nbconvert_exporter": "python",
   "pygments_lexer": "ipython3",
   "version": "3.6.0"
  }
 },
 "nbformat": 4,
 "nbformat_minor": 2
}
