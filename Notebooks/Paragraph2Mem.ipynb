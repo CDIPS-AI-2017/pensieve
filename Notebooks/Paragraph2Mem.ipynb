{
 "cells": [
  {
   "cell_type": "markdown",
   "metadata": {},
   "source": [
    "# Paragraph to mem prototype\n",
    "## Import modules"
   ]
  },
  {
   "cell_type": "code",
   "execution_count": 1,
   "metadata": {
    "collapsed": false
   },
   "outputs": [],
   "source": [
    "#import sys\n",
    "#sys.path.append('/Users/michaellomnitz/Documents/CDIPS-AI/pensieve/pensieve')\n",
    "\n",
    "import pensieve as pens\n",
    "import textacy\n",
    "from collections import defaultdict\n",
    "from random import random\n",
    "import numpy as np\n",
    "import matplotlib.pyplot as plt"
   ]
  },
  {
   "cell_type": "markdown",
   "metadata": {},
   "source": [
    "## Define some constant variables\n",
    "* Chagne path to your books!\n",
    "* _all_books_ : Path to the 7 seven books used to mine meomories\n",
    "* _coolors & bins_ : Defining some hisotrgram constants\n",
    "* _docs_ : List of pensieve.Doc's, one for each book\n"
   ]
  },
  {
   "cell_type": "code",
   "execution_count": 2,
   "metadata": {
    "collapsed": false
   },
   "outputs": [],
   "source": [
    "all_books = ['../../clusterpot/book1.txt']\n",
    "#               '../../clusterpot/book2.txt',\n",
    "#               '../../clusterpot/book3.txt',\n",
    "#               '../../clusterpot/book4.txt',\n",
    "#               '../../clusterpot/book5.txt',\n",
    "#               '../../clusterpot/book6.txt',\n",
    "#               '../../clusterpot/book7.txt']\n",
    "#all_books = ['../../clusterpot/book1.txt']\n",
    "\n",
    "colors = ['black', 'red', 'green', 'blue', 'cyan', 'yellow','magenta']\n",
    "bins = [ 5*i for i in range(0,201) ]\n",
    "docs = []\n",
    "for book in all_books:\n",
    "    docs.append(pens.Doc(book))"
   ]
  },
  {
   "cell_type": "markdown",
   "metadata": {},
   "source": [
    "## Harry paragraphs\n",
    "We define the harryness of a paragraph as the number of instances of 'Harry' and 'Harry'/sentence in a paragraph"
   ]
  },
  {
   "cell_type": "code",
   "execution_count": 3,
   "metadata": {
    "collapsed": true
   },
   "outputs": [],
   "source": [
    "def harry_paragraphs( d ):\n",
    "    x = []\n",
    "    y= []\n",
    "    par = []\n",
    "    par_weight = {}\n",
    "    for i, p in enumerate(d.paragraphs):\n",
    "        count = 1\n",
    "        for sent in p.doc.sents:\n",
    "            #print(sent.text)\n",
    "            count+=1\n",
    "        #lines.append(count)\n",
    "    #print(sent)\n",
    "        harryness = p.words['names']['Harry']\n",
    "        harryness_per_sent = p.words['names']['Harry']/count #+ p.words['names']['Potter']\n",
    "        #+ p.words['names']['Potter'] + p.words['names']['Harry Potter']\n",
    "        if len(p.text) > 0:\n",
    "            #print(harryness/len(p.text))\n",
    "            if harryness >=1:\n",
    "                x.append(harryness)\n",
    "                y.append(harryness_per_sent)\n",
    "            if harryness >= 3:\n",
    "                par.append(i)\n",
    "                par_weight[i] = harryness\n",
    "    return x,y\n"
   ]
  },
  {
   "cell_type": "markdown",
   "metadata": {},
   "source": [
    "## QA Histograms\n",
    "We process the loaded pensieve docs. Some basic QA histograms are filled and we plot the # of instances of the different 'verbs' document wise. This will be used to select the significant verbs in each paragraph (appearance freq. < 50)"
   ]
  },
  {
   "cell_type": "code",
   "execution_count": 4,
   "metadata": {
    "collapsed": false
   },
   "outputs": [
    {
     "name": "stdout",
     "output_type": "stream",
     "text": [
      "Reading  <pensieve.pensieve.Doc object at 0x1179d89e8>\n"
     ]
    },
    {
     "data": {
      "image/png": "[encoded data removed]",
      "text/plain": [
       "<matplotlib.figure.Figure at 0x1179d84e0>"
      ]
     },
     "metadata": {},
     "output_type": "display_data"
    }
   ],
   "source": [
    "histogram = []\n",
    "hist_per_sent = []\n",
    "words_hist = []\n",
    "\n",
    "for i, d in enumerate(docs):\n",
    "    print('Reading ',d)\n",
    "    h, h_per_line = harry_paragraphs(d)\n",
    "    histogram.append(h)\n",
    "    hist_per_sent.append(h_per_line)\n",
    "    for verb in d.words['verbs']:\n",
    "        words_hist.append(d.words['verbs'][verb])\n",
    "    \n",
    "fig = plt.figure()\n",
    "ax = fig.add_subplot(111)\n",
    "ax.set_xlabel('Appearance frequency')\n",
    "ax.set_title('All names')\n",
    "#\n",
    "plt.hist(words_hist,bins)\n",
    "plt.yscale('log')\n",
    "#\n",
    "plt.show()"
   ]
  },
  {
   "cell_type": "markdown",
   "metadata": {},
   "source": [
    "### Next we plot frequency and frequency per sentence per paragraph"
   ]
  },
  {
   "cell_type": "code",
   "execution_count": 5,
   "metadata": {
    "collapsed": false
   },
   "outputs": [
    {
     "name": "stderr",
     "output_type": "stream",
     "text": [
      "/Users/michaellomnitz/anaconda/lib/python3.6/site-packages/matplotlib/axes/_axes.py:545: UserWarning: No labelled objects found. Use label='...' kwarg on individual plots.\n",
      "  warnings.warn(\"No labelled objects found. \"\n"
     ]
    },
    {
     "data": {
      "image/png": "[encoded data removed]",
      "text/plain": [
       "<matplotlib.figure.Figure at 0x11df1e320>"
      ]
     },
     "metadata": {},
     "output_type": "display_data"
    }
   ],
   "source": [
    "fig2 = plt.figure()\n",
    "ax = fig2.add_subplot(111)\n",
    "ax.set_xlabel('Harry appearance frequency')\n",
    "plt.hist(histogram)#, color=colors)\n",
    "# for i, h in enumerate(histogram):\n",
    "#     lab = \"book\"+str(i)\n",
    "#     plt.hist(h,color = colors[i],label = lab)\n",
    "plt.yscale('log')\n",
    "ax.legend(bbox_to_anchor=(0, 0, 1, 1))\n",
    "plt.show()   \n",
    "#print(len(par))"
   ]
  },
  {
   "cell_type": "code",
   "execution_count": 6,
   "metadata": {
    "collapsed": false
   },
   "outputs": [
    {
     "name": "stderr",
     "output_type": "stream",
     "text": [
      "/Users/michaellomnitz/anaconda/lib/python3.6/site-packages/matplotlib/axes/_axes.py:545: UserWarning: No labelled objects found. Use label='...' kwarg on individual plots.\n",
      "  warnings.warn(\"No labelled objects found. \"\n"
     ]
    },
    {
     "data": {
      "image/png": "[encoded data removed]",
      "text/plain": [
       "<matplotlib.figure.Figure at 0x121f50eb8>"
      ]
     },
     "metadata": {},
     "output_type": "display_data"
    }
   ],
   "source": [
    "fig3 = plt.figure()\n",
    "ax = fig3.add_subplot(111)\n",
    "ax.set_xlabel('Harry appearance frequency per sentence in paragraph')\n",
    "# for i, h in enumerate(hist_per_sent):\n",
    "#     lab = \"book\"+str(i)\n",
    "#     plt.hist(h,color = colors[i],label = lab)\n",
    "plt.hist(hist_per_sent)\n",
    "plt.yscale('log')\n",
    "ax.legend(bbox_to_anchor=(0, 0, 1, 1))\n",
    "plt.show() "
   ]
  },
  {
   "cell_type": "markdown",
   "metadata": {},
   "source": [
    "## Generating memory text\n",
    "With the previous information we can define meaningful paragraphs and sentences. We can iterate over paragraphs, selecting those with _nHarry's/sentence > 0.4_ and construct memories:\n",
    "* Find _textacy_ main verbs and select meaningful verbs (_documenta wise freq. < 50_) and find their subjects and objects\n",
    "* Get verb auxiliaries and check if there is necesary negation\n"
   ]
  },
  {
   "cell_type": "code",
   "execution_count": 11,
   "metadata": {
    "collapsed": false
   },
   "outputs": [],
   "source": [
    "max = 100\n",
    "def para_2_mem(p,counter):\n",
    "    main_verbs = textacy.spacy_utils.get_main_verbs_of_sent(p.doc)\n",
    "    results = []\n",
    "    for verb in main_verbs:\n",
    "        my_string = ''\n",
    "        if p.words['verbs'][verb.text] < 50:\n",
    "            # --- Getting aux verbs \n",
    "            span = textacy.spacy_utils.get_span_for_verb_auxiliaries(verb)\n",
    "            complex_verb = p.doc[span[0]].text\n",
    "            span_end = 1\n",
    "            if textacy.spacy_utils.is_negated_verb(verb) is True:\n",
    "                complex_verb = complex_verb+' not '\n",
    "                span_end = 0\n",
    "            for a in range(span[0]+1,span[1]+span_end):\n",
    "                complex_verb +=\" \"+p.doc[span[1]].text\n",
    "            # --- \n",
    "            subjects = textacy.spacy_utils.get_subjects_of_verb(verb)\n",
    "            objects = textacy.spacy_utils.get_objects_of_verb(verb)\n",
    "            if len(subjects)>0 and len(objects)>0:\n",
    "                results.append([subjects,complex_verb,objects])\n",
    "                           \n",
    "            \n",
    "                #if counter < max:\n",
    "                    #print(subjects,complex_verb,objects)\n",
    "                \n",
    "    #print(\" ------------------------------- \")\n",
    "    return results\n"
   ]
  },
  {
   "cell_type": "markdown",
   "metadata": {},
   "source": [
    "Quick test on documents as proof of principal"
   ]
  },
  {
   "cell_type": "code",
   "execution_count": 14,
   "metadata": {
    "collapsed": false
   },
   "outputs": [],
   "source": [
    "# Will only print out the first processed paragraphs for QA\n",
    "\n",
    "def doc2mem(docs):\n",
    "    counter = 0\n",
    "    passed = 0\n",
    "    for p in docs.paragraphs:\n",
    "        #\n",
    "        count = 1\n",
    "        for sent in p.doc.sents:\n",
    "            count+=1\n",
    "        #\n",
    "        if p.words['names']['Harry']/count >= 0.9 : \n",
    "            #\n",
    "            passed +=1 \n",
    "            print(\" Sentences \",counter,\" \\n\",p.text)\n",
    "            print(\" ------------------------------- \")\n",
    "            log = ''\n",
    "            for key in p.words['places']:\n",
    "                log+=key+' '       \n",
    "            #print(\"Places: \", log)\n",
    "            #print(\" ------------------------------- \")\n",
    "            log = ''\n",
    "            for key in p.words['names']:\n",
    "                log+=key+' '\n",
    "            print(\"People: \", log)\n",
    "            print(\" ------------------------------- \")\n",
    "            print('Actions \\n ')\n",
    "            #\n",
    "            log = para_2_mem(p,counter)\n",
    "\n",
    "            for i_log in log:\n",
    "                print(i_log)\n",
    "                #print(log)\n",
    "            counter+=1\n",
    "            print(\" ------------------------------- \")\n",
    "    return passed\n",
    "    "
   ]
  },
  {
   "cell_type": "code",
   "execution_count": 15,
   "metadata": {
    "collapsed": false
   },
   "outputs": [
    {
     "name": "stdout",
     "output_type": "stream",
     "text": [
      " Sentences  0  \n",
      " “OUT!” roared Uncle Vernon, and he took both Harry and Dudley by the scruffs of their necks and threw them into the hall, slamming the kitchen door behind them. Harry and Dudley promptly had a furious but silent fight over who would listen at the keyhole; Dudley won, so Harry, his glasses dangling from one ear, lay flat on his stomach to listen at the crack between door and floor.\n",
      " ------------------------------- \n",
      "People:  Uncle Vernon Harry Dudley \n",
      " ------------------------------- \n",
      "Actions \n",
      " \n",
      "[[”], 'roared', [Vernon]]\n",
      "[[he], 'took', [Harry, Dudley]]\n",
      "[[Harry, Dudley], 'had', [fight]]\n",
      "[[glasses], 'lay', [flat]]\n",
      " ------------------------------- \n",
      " Sentences  1  \n",
      " The late afternoon sun hung low in the sky as Harry and Hagrid made their way back down Diagon Alley, back through the wall, back through the Leaky Cauldron, now empty Harry didn’t speak at all as they walked down the road; he didn’t even notice how much people were gawking at them on the Underground, laden as they were with all their funny-shaped packages, with the snowy owl asleep in its cage on Harry’s lap. Up another escalator, out into Paddington station; Harry only realized where they were when Hagrid tapped him on the shoulder.\n",
      " ------------------------------- \n",
      "People:  Harry Diagon Alley Harry’s \n",
      " ------------------------------- \n",
      "Actions \n",
      " \n",
      "[[sun], 'hung', [low]]\n",
      "[[Harry, Hagrid], 'made', [way, Alley]]\n",
      "[[Hagrid], 'tapped', [him]]\n",
      " ------------------------------- \n",
      " Sentences  2  \n",
      " “RUN!” Harry yelled, and the four of them sprinted down the gallery, not looking back to see whether Filch was following — they swung around the doorpost and galloped down one corridor then another, Harry in the lead, without any idea where they were or where they were going — they ripped through a tapestry and found themselves in a hidden passageway, hurtled along it and came out near their Charms classroom, which they knew was miles from the trophy room.\n",
      " ------------------------------- \n",
      "People:  Harry Filch \n",
      " ------------------------------- \n",
      "Actions \n",
      " \n",
      "[[doorpost], 'galloped', [corridor]]\n",
      " ------------------------------- \n",
      " Sentences  3  \n",
      " He pulled a bag of ordinary golf balls out of his pocket and a few minutes later, he and Harry were up in the air, Wood throwing the golf balls as hard as he could in every direction for Harry to catch.\n",
      " ------------------------------- \n",
      "People:  Harry Wood \n",
      " ------------------------------- \n",
      "Actions \n",
      " \n",
      "[[He], 'pulled', [bag]]\n",
      "[[Wood], 'throwing', [balls]]\n",
      " ------------------------------- \n",
      " Sentences  4  \n",
      " Hardly anyone had seen Harry play because Wood had decided that, as their secret weapon, Harry should be kept, well, secret. But the news that he was playing Seeker had leaked out somehow, and Harry didn’t know which was worse — people telling him he’d be brilliant or people telling him they’d be running around underneath him holding a mattress.\n",
      " ------------------------------- \n",
      "People:  Harry Wood Seeker \n",
      " ------------------------------- \n",
      "Actions \n",
      " \n",
      "[[anyone], 'had seen', [play]]\n",
      "[[he], 'was playing', [Seeker]]\n",
      " ------------------------------- \n",
      " Sentences  5  \n",
      " “Harry! Harry, are you all right?”\n",
      " ------------------------------- \n",
      "People:  Harry \n",
      " ------------------------------- \n",
      "Actions \n",
      " \n",
      " ------------------------------- \n",
      " Sentences  6  \n",
      " Harry did the best he could, trying to ignore the stabbing pains in his forehead, which had been bothering him ever since his trip into the forest. Neville thought Harry had a bad case of exam nerves because Harry couldn’t sleep, but the truth was that Harry kept being woken by his old nightmare, except that it was now worse than ever because there was a hooded figure dripping blood in it.\n",
      " ------------------------------- \n",
      "People:  Harry Neville \n",
      " ------------------------------- \n",
      "Actions \n",
      " \n",
      "[[Harry], 'did', [best]]\n",
      "[[Harry], 'had', [case]]\n",
      "[[Harry], 'kept', [woken]]\n",
      "[[there], 'was', [figure]]\n",
      " ------------------------------- \n",
      " Sentences  7  \n",
      " And Quirrell, though pinning Harry to the ground with his knees, let go of his neck and stared, bewildered, at his own palms — Harry could see they looked burned, raw, red, and shiny.\n",
      " ------------------------------- \n",
      "People:  Harry \n",
      " ------------------------------- \n",
      "Actions \n",
      " \n",
      " ------------------------------- \n",
      "8\n"
     ]
    }
   ],
   "source": [
    "counter = 0\n",
    "passed = 0\n",
    "for d in docs:\n",
    "    passed+=doc2mem(d)\n",
    "#    print(len(d.paragraphs))\n",
    "    #passed+=doc2mem(d)\n",
    "    \n",
    "print(passed)"
   ]
  },
  {
   "cell_type": "markdown",
   "metadata": {},
   "source": [
    "## More data?\n",
    "Scrape the internet for more on Harry Potter. There is a lot of fan finctions plus summaried information on the seires out there.\n",
    "\n",
    "Import libraries and make call from wikia page using api"
   ]
  },
  {
   "cell_type": "code",
   "execution_count": null,
   "metadata": {
    "collapsed": true
   },
   "outputs": [],
   "source": [
    "import requests\n",
    "import json\n",
    "\n",
    "r = requests.get('http://harrypotter.wikia.com/api/v1/Articles/Top')\n",
    "hp_id = [it['id'] for it in json.loads(r.content)['items'] if it['title'] == 'Harry Potter'][0]\n",
    "\n"
   ]
  },
  {
   "cell_type": "code",
   "execution_count": null,
   "metadata": {
    "collapsed": true
   },
   "outputs": [],
   "source": [
    "r = requests.get('http://harrypotter.wikia.com/api/v1/Articles/AsSimpleJson', params={'id': hp_id})\n",
    "json.dump(r.text, open('HarryPotterWikia1.json', 'w'))"
   ]
  },
  {
   "cell_type": "code",
   "execution_count": null,
   "metadata": {
    "collapsed": false
   },
   "outputs": [],
   "source": [
    "cont = json.loads(r.text)\n",
    "with open('HarryPotterWikia.txt', 'w') as f:\n",
    "    for section in cont['sections']:\n",
    "        #print(section['title'])\n",
    "        #f.write(section['title'].encode('utf8')+'\\n')\n",
    "        f.write(section['title']+'\\n')\n",
    "        for unit in section['content']:\n",
    "            if unit['type'] == 'paragraph':f.write(unit['text']+'\\n')\n",
    "\n",
    "text = pens.Doc('HarryPotterWikia.txt')"
   ]
  },
  {
   "cell_type": "code",
   "execution_count": null,
   "metadata": {
    "collapsed": false
   },
   "outputs": [],
   "source": [
    "doc2mem(text)"
   ]
  },
  {
   "cell_type": "code",
   "execution_count": null,
   "metadata": {
    "collapsed": false
   },
   "outputs": [],
   "source": [
    "for a in textacy.extract.named_entities(docs[0].paragraphs[10].doc, include_types=['PERSON'],min_freq = 2):\n",
    "    \n",
    "    print(a)"
   ]
  },
  {
   "cell_type": "code",
   "execution_count": null,
   "metadata": {
    "collapsed": true
   },
   "outputs": [],
   "source": []
  }
 ],
 "metadata": {
  "kernelspec": {
   "display_name": "Python 3",
   "language": "python",
   "name": "python3"
  },
  "language_info": {
   "codemirror_mode": {
    "name": "ipython",
    "version": 3
   },
   "file_extension": ".py",
   "mimetype": "text/x-python",
   "name": "python",
   "nbconvert_exporter": "python",
   "pygments_lexer": "ipython3",
   "version": "3.6.0"
  }
 },
 "nbformat": 4,
 "nbformat_minor": 2
}
